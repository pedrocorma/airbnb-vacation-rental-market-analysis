{
 "cells": [
  {
   "cell_type": "markdown",
   "id": "65619eaf",
   "metadata": {},
   "source": [
    "# DISEÑO DEL PROYECTO"
   ]
  },
  {
   "cell_type": "markdown",
   "id": "8e0ec15b",
   "metadata": {},
   "source": [
    "El cliente es una empresa inmobiliaria que invierte en grandes ciudades comprando inmuebles para luego alquilarlos como apartamentos vacacionales.\n",
    "\n",
    "Los gestores han tomado la decisión de invertir en Madrid, y están interesados en analizar los datos que el líder del sector AirBnb hace públicos para tratar de encontrar las tipologías de inmuebles que tienen mayor potencial comercial para el alquiler vacacional.\n",
    "\n",
    "Como principal entregable, la dirección espera recibir la tipología (o tipologías) de inmuebles que el equipo de valoración debe buscar entre las oportunidades existentes en la ciudad y los principales barrios o zonas geográficas en las que centrarse."
   ]
  },
  {
   "cell_type": "markdown",
   "id": "f1a9a140",
   "metadata": {},
   "source": [
    "## OBJETIVO"
   ]
  },
  {
   "cell_type": "markdown",
   "id": "2f54133f",
   "metadata": {},
   "source": [
    "Analizar las fuentes de datos públicos disponibles para encontrar elementos que ayuden a entender las características del mercado en la ciudad de Madrid y guiar el trabajo de investigación del equipo de valoración, especialmente en lo que se refiere a los principales ángulos: precios de alquiler, niveles de ocupación y precios de compra."
   ]
  },
  {
   "cell_type": "markdown",
   "id": "8fb8aca2",
   "metadata": {},
   "source": [
    "## PALANCAS"
   ]
  },
  {
   "cell_type": "markdown",
   "id": "d9380334",
   "metadata": {},
   "source": [
    "Por lo general, hay un número ilimitado de acciones que una empresa puede considerar para mejorar su negocio. Sin embargo, las opciones deben reducirse para incluir solo las palancas más relevantes para la empresa y su situación y objetivos, que en este caso son:\n",
    "* **Precio alquiler**: cuanto más se pueda cobrar por noche mayor es la rentabilidad.\n",
    "* **Ocupación**: en general cuantos más días al año se pueda alquilar un inmueble mayor es su rentabilidad.\n",
    "* **Precio inmueble**: cuanto más barato se pueda adquirir la propiedad mayor es la rentabilidad."
   ]
  },
  {
   "cell_type": "markdown",
   "id": "d321de30",
   "metadata": {},
   "source": [
    "## KPIs"
   ]
  },
  {
   "cell_type": "markdown",
   "id": "dc75cf61",
   "metadata": {},
   "source": [
    "En este proyecto los KPIs son bastante directos:\n",
    "- **Ocupación**: número de días anuales que el inmueble se puede alquilar.\n",
    "- **Precio del alquiler**:  precio por noche en euros según los datos de AirBnb.\n",
    "- **Precio del inmueble**: se medirá el precio de un inmueble como la multiplicación entre el número de metros cuadrados y el precio medio del m2 en su zona, considerando un 25% de descuento sobre el precio oficial por la fuerza de negociciación del experimentado equipo de compras de la compañía."
   ]
  },
  {
   "cell_type": "markdown",
   "id": "28a6275a",
   "metadata": {},
   "source": [
    "## ENTIDADES Y DATOS"
   ]
  },
  {
   "cell_type": "markdown",
   "id": "43bda11d",
   "metadata": {},
   "source": [
    "Las entidades relevantes para el objetivo y de las que se dispone de datos son:\n",
    "* **Inmuebles**:  ubicación, precio, tipo de habitación, opiniones, número mínimo/máximo de noches, número de habitaciones, ...\n",
    "* **Propietarios**: Nombre, id, url, ubicación, verificaciones, ...\n",
    "* **Distritos**: Barrio, distrito, ..."
   ]
  },
  {
   "cell_type": "markdown",
   "id": "80de46d9",
   "metadata": {},
   "source": [
    "## PREGUNTAS SEMILLA"
   ]
  },
  {
   "cell_type": "markdown",
   "id": "d8fd1d3e",
   "metadata": {},
   "source": [
    "Para orientar el proceso de análisis, se plantean a continuación una serie de preguntas iniciales que servirán de base para desarrollar y profundizar en el análisis de las distintas variables.\n",
    "\n",
    "**Sobre el precio del alquiler:**\n",
    "\n",
    "* ¿Cual es el precio medio? ¿y el rango de precios?¿Y por distritos?¿Y por barrios?\n",
    "* ¿Cual es el ranking de distritos y barrios por precio medio de alquiler?\n",
    "* ¿Qué factores (a parte de la localización determinan el precio del alquiler?\n",
    "* ¿Cual es la relación entre el tamaño del inmueble y el precio por el que se puede alquilar?\n",
    "* ¿Cómo influye la competencia (num inmuebles disponibles por barrio) sobre el precio del alquiler?\n",
    "* ¿Cómo varían los precios por tipo de alquiler (todo el piso, habitación privada, habitación compartida)?\n",
    "\n",
    "\n",
    "**Sobre la ocupación:**\n",
    "\n",
    "* ¿Cual es la ocupación media? ¿Y por distritos?¿Y por barrios?\n",
    "* ¿Cómo de probable es cada nivel de ocupación en cada distrito?\n",
    "* ¿Cual es el ranking de distritos y barrios por ocupación?\n",
    "* ¿Qué factores (a parte de la localización determinan la ocupación?\n",
    "* ¿Cual es la relación entre el tamaño del inmueble y su grado de ocupación?\n",
    "* ¿Cómo influye la competencia (num inmuebles disponibles por barrio) sobre la ocupación?\n",
    "\n",
    "**Sobre el precio de compra:**\n",
    "\n",
    "* ¿Cual es el ranking de precio por m2 por distrito?\n",
    "* ¿Cual es el ranking de precio del inmueble (m2 * tamaño medio) por distrito?\n",
    "* ¿Cual es la relación entre el precio del inmueble y el precio del alquiler por distrito?\n",
    "* ¿Cual es la relación entre el precio del inmueble y la ocupación por distrito?"
   ]
  }
 ],
 "metadata": {
  "kernelspec": {
   "display_name": "Python 3 (ipykernel)",
   "language": "python",
   "name": "python3"
  },
  "language_info": {
   "codemirror_mode": {
    "name": "ipython",
    "version": 3
   },
   "file_extension": ".py",
   "mimetype": "text/x-python",
   "name": "python",
   "nbconvert_exporter": "python",
   "pygments_lexer": "ipython3",
   "version": "3.9.5"
  },
  "latex_envs": {
   "LaTeX_envs_menu_present": true,
   "autoclose": false,
   "autocomplete": true,
   "bibliofile": "biblio.bib",
   "cite_by": "apalike",
   "current_citInitial": 1,
   "eqLabelWithNumbers": true,
   "eqNumInitial": 1,
   "hotkeys": {
    "equation": "Ctrl-E",
    "itemize": "Ctrl-I"
   },
   "labels_anchors": false,
   "latex_user_defs": false,
   "report_style_numbering": false,
   "user_envs_cfg": false
  },
  "toc": {
   "base_numbering": 1,
   "nav_menu": {},
   "number_sections": true,
   "sideBar": true,
   "skip_h1_title": false,
   "title_cell": "Table of Contents",
   "title_sidebar": "Contents",
   "toc_cell": false,
   "toc_position": {},
   "toc_section_display": true,
   "toc_window_display": true
  },
  "varInspector": {
   "cols": {
    "lenName": 16,
    "lenType": 16,
    "lenVar": 40
   },
   "kernels_config": {
    "python": {
     "delete_cmd_postfix": "",
     "delete_cmd_prefix": "del ",
     "library": "var_list.py",
     "varRefreshCmd": "print(var_dic_list())"
    },
    "r": {
     "delete_cmd_postfix": ") ",
     "delete_cmd_prefix": "rm(",
     "library": "var_list.r",
     "varRefreshCmd": "cat(var_dic_list()) "
    }
   },
   "types_to_exclude": [
    "module",
    "function",
    "builtin_function_or_method",
    "instance",
    "_Feature"
   ],
   "window_display": false
  }
 },
 "nbformat": 4,
 "nbformat_minor": 5
}
